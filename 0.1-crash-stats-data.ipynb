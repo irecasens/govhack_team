{
 "cells": [
  {
   "cell_type": "markdown",
   "metadata": {
    "collapsed": false,
    "slideshow": {
     "slide_type": "slide"
    }
   },
   "source": [
    "# Analysis of Crash Data\n",
    "\n",
    "using Jupyter on https://datascientistworkbench.com/\n",
    "\n",
    "To see the Python code used in this Notebook, click the following button:"
   ]
  },
  {
   "cell_type": "code",
   "execution_count": 1,
   "metadata": {
    "collapsed": false,
    "slideshow": {
     "slide_type": "-"
    }
   },
   "outputs": [
    {
     "data": {
      "text/html": [
       "<script> code_show=true;function code_toggle() { if (code_show){$('div.input').hide();}\n",
       "else {$('div.input').show(); } code_show = !code_show } $( document ).ready(code_toggle); </script>\n",
       "<form action=\"javascript:code_toggle()\"><input type=\"submit\" value=\"python code(toggle on/off).\"></form>"
      ],
      "text/plain": [
       "<IPython.core.display.HTML object>"
      ]
     },
     "execution_count": 1,
     "metadata": {},
     "output_type": "execute_result"
    }
   ],
   "source": [
    "from IPython.display import display, HTML\n",
    "HTML('''<script> code_show=true;function code_toggle() { if (code_show){$('div.input').hide();}\n",
    "else {$('div.input').show(); } code_show = !code_show } $( document ).ready(code_toggle); </script>\n",
    "<form action=\"javascript:code_toggle()\"><input type=\"submit\" value=\"python code(toggle on/off).\"></form>''')"
   ]
  },
  {
   "cell_type": "code",
   "execution_count": 2,
   "metadata": {
    "collapsed": false,
    "slideshow": {
     "slide_type": "skip"
    }
   },
   "outputs": [],
   "source": [
    "import requests\n",
    "from zipfile import ZipFile \n",
    "import pandas as pd\n",
    "import io \n",
    "from IPython.display import display"
   ]
  },
  {
   "cell_type": "markdown",
   "metadata": {
    "slideshow": {
     "slide_type": "subslide"
    }
   },
   "source": [
    "## Data Source"
   ]
  },
  {
   "cell_type": "code",
   "execution_count": 3,
   "metadata": {
    "collapsed": false
   },
   "outputs": [
    {
     "name": "stdout",
     "output_type": "stream",
     "text": [
      "API https://www.data.vic.gov.au/api/3/action/package_show?id=crash-stats-data-extract\n",
      "Data file url: https://vicroads-public.sharepoint.com/InformationAccess/Shared%20Documents/Road%20Safety/Crash/Accident/ACCIDENT.zip\n"
     ]
    }
   ],
   "source": [
    "API_URL = 'https://www.data.vic.gov.au/api/3/action/package_show?id=crash-stats-data-extract'\n",
    "print 'API',API_URL \n",
    "metadata_file = requests.get(API_URL).json()\n",
    "data_file_url =  metadata_file['result']['resources'][0]['url']\n",
    "print 'Data file url:', data_file_url"
   ]
  },
  {
   "cell_type": "markdown",
   "metadata": {
    "slideshow": {
     "slide_type": "subslide"
    }
   },
   "source": [
    "## Data Files\n",
    "\n",
    "Key data files are:"
   ]
  },
  {
   "cell_type": "code",
   "execution_count": 4,
   "metadata": {
    "collapsed": false
   },
   "outputs": [
    {
     "name": "stdout",
     "output_type": "stream",
     "text": [
      "ACCIDENT.csv\n",
      "ACCIDENT_EVENT.csv\n",
      "ACCIDENT_LOCATION.csv\n",
      "NODE_ID_COMPLEX_INT_ID.csv\n",
      "ATMOSPHERIC_COND.csv\n",
      "NODE.csv\n",
      "PERSON.csv\n",
      "ROAD_SURFACE_COND.csv\n",
      "SUBDCA.csv\n",
      "VEHICLE.csv\n",
      "ACCIDENT_CHAINAGE.csv\n",
      "Statistic Checks.csv\n"
     ]
    }
   ],
   "source": [
    "zipfile = requests.get(data_file_url).content\n",
    "dataset = {}\n",
    "with ZipFile(io.BytesIO(zipfile))  as z:\n",
    "    for filename in z.namelist():\n",
    "        print filename\n",
    "        with z.open(filename,'r') as c:\n",
    "            try:\n",
    "                dataset[filename] = pd.read_csv(c,dtype=object)          \n",
    "            except:\n",
    "                pass"
   ]
  },
  {
   "cell_type": "code",
   "execution_count": 7,
   "metadata": {
    "collapsed": true,
    "slideshow": {
     "slide_type": "skip"
    }
   },
   "outputs": [],
   "source": [
    "data = {}"
   ]
  },
  {
   "cell_type": "markdown",
   "metadata": {
    "slideshow": {
     "slide_type": "subslide"
    }
   },
   "source": [
    "## ACCIDENT.CSV"
   ]
  },
  {
   "cell_type": "code",
   "execution_count": 8,
   "metadata": {
    "collapsed": false,
    "slideshow": {
     "slide_type": "-"
    }
   },
   "outputs": [
    {
     "name": "stdout",
     "output_type": "stream",
     "text": [
      "index: [u'ACCIDENT_NO']\n"
     ]
    },
    {
     "data": {
      "text/plain": [
       "ACCIDENTDATE            category\n",
       "ACCIDENTTIME            category\n",
       "ACCIDENT_TYPE           category\n",
       "Accident Type Desc      category\n",
       "DAY_OF_WEEK             category\n",
       "Day Week Description    category\n",
       "DCA_CODE                category\n",
       "DCA Description         category\n",
       "DIRECTORY               category\n",
       "EDITION                 category\n",
       "PAGE                    category\n",
       "GRID_REFERENCE_X        category\n",
       "GRID_REFERENCE_Y        category\n",
       "LIGHT_CONDITION         category\n",
       "Light Condition Desc    category\n",
       "NODE_ID                 category\n",
       "NO_OF_VEHICLES          category\n",
       "NO_PERSONS              category\n",
       "NO_PERSONS_INJ_2        category\n",
       "NO_PERSONS_INJ_3        category\n",
       "NO_PERSONS_KILLED       category\n",
       "NO_PERSONS_NOT_INJ      category\n",
       "POLICE_ATTEND           category\n",
       "ROAD_GEOMETRY           category\n",
       "Road Geometry Desc      category\n",
       "SEVERITY                category\n",
       "SPEED_ZONE              category\n",
       "dtype: object"
      ]
     },
     "execution_count": 8,
     "metadata": {},
     "output_type": "execute_result"
    }
   ],
   "source": [
    "data['ACCIDENT.csv'] = dataset['ACCIDENT.csv'].apply(lambda r: pd.Categorical(r,ordered=True))\n",
    "data['ACCIDENT.csv'] = data['ACCIDENT.csv'].set_index(['ACCIDENT_NO'])\n",
    "print 'index:', data['ACCIDENT.csv'].index.names\n",
    "data['ACCIDENT.csv'].dtypes"
   ]
  },
  {
   "cell_type": "markdown",
   "metadata": {
    "slideshow": {
     "slide_type": "subslide"
    }
   },
   "source": [
    "## ACCIDENT_EVENT.csv"
   ]
  },
  {
   "cell_type": "code",
   "execution_count": 9,
   "metadata": {
    "collapsed": false,
    "slideshow": {
     "slide_type": "-"
    }
   },
   "outputs": [
    {
     "name": "stdout",
     "output_type": "stream",
     "text": [
      "index: [u'ACCIDENT_NO', u'EVENT_SEQ_NO']\n"
     ]
    },
    {
     "data": {
      "text/plain": [
       "EVENT_TYPE                category\n",
       "Event Type Desc           category\n",
       "VEHICLE_1_ID              category\n",
       "VEHICLE_1_COLL_PT         category\n",
       "Vehicle 1 Coll Pt Desc    category\n",
       "VEHICLE_2_ID              category\n",
       "VEHICLE_2_COLL_PT         category\n",
       "Vehicle 2 Coll Pt Desc    category\n",
       "PERSON_ID                 category\n",
       "OBJECT_TYPE               category\n",
       "Object Type Desc          category\n",
       "dtype: object"
      ]
     },
     "execution_count": 9,
     "metadata": {},
     "output_type": "execute_result"
    }
   ],
   "source": [
    "data['ACCIDENT_EVENT.csv'] = dataset['ACCIDENT_EVENT.csv'].apply(lambda r: pd.Categorical(r,ordered=True))\n",
    "data['ACCIDENT_EVENT.csv'] = data['ACCIDENT_EVENT.csv'].set_index(['ACCIDENT_NO','EVENT_SEQ_NO'])\n",
    "print 'index:', data['ACCIDENT_EVENT.csv'].index.names\n",
    "data['ACCIDENT_EVENT.csv'].dtypes"
   ]
  },
  {
   "cell_type": "markdown",
   "metadata": {
    "slideshow": {
     "slide_type": "subslide"
    }
   },
   "source": [
    "## ACCIDENT_LOCATION.csv"
   ]
  },
  {
   "cell_type": "code",
   "execution_count": 10,
   "metadata": {
    "collapsed": false,
    "slideshow": {
     "slide_type": "-"
    }
   },
   "outputs": [
    {
     "name": "stdout",
     "output_type": "stream",
     "text": [
      "index: [u'ACCIDENT_NO', u'NODE_ID']\n"
     ]
    },
    {
     "data": {
      "text/plain": [
       "ROAD_ROUTE_1          category\n",
       "ROAD_NAME             category\n",
       "ROAD_TYPE             category\n",
       "ROAD_NAME_INT         category\n",
       "ROAD_TYPE_INT         category\n",
       "DISTANCE_LOCATION     category\n",
       "DIRECTION_LOCATION    category\n",
       "NEAREST_KM_POST       category\n",
       "OFF_ROAD_LOCATION     category\n",
       "dtype: object"
      ]
     },
     "execution_count": 10,
     "metadata": {},
     "output_type": "execute_result"
    }
   ],
   "source": [
    "data['ACCIDENT_LOCATION.csv'] = dataset['ACCIDENT_LOCATION.csv'].apply(lambda r: pd.Categorical(r,ordered=True))\n",
    "data['ACCIDENT_LOCATION.csv'] = data['ACCIDENT_LOCATION.csv'].set_index(['ACCIDENT_NO','NODE_ID'])\n",
    "print 'index:', data['ACCIDENT_LOCATION.csv'].index.names\n",
    "data['ACCIDENT_LOCATION.csv'].dtypes"
   ]
  },
  {
   "cell_type": "markdown",
   "metadata": {
    "slideshow": {
     "slide_type": "subslide"
    }
   },
   "source": [
    "## NODE_ID_COMPLEX_INT_ID.csv"
   ]
  },
  {
   "cell_type": "code",
   "execution_count": 11,
   "metadata": {
    "collapsed": false,
    "slideshow": {
     "slide_type": "-"
    }
   },
   "outputs": [
    {
     "name": "stdout",
     "output_type": "stream",
     "text": [
      "index: [u'ACCIDENT_NO', u'COMPLEX_INT_NO']\n"
     ]
    },
    {
     "data": {
      "text/plain": [
       "NODE_ID    category\n",
       "dtype: object"
      ]
     },
     "execution_count": 11,
     "metadata": {},
     "output_type": "execute_result"
    }
   ],
   "source": [
    "data['NODE_ID_COMPLEX_INT_ID.csv'] = dataset['NODE_ID_COMPLEX_INT_ID.csv'].apply(lambda r: pd.Categorical(r,ordered=True))\n",
    "data['NODE_ID_COMPLEX_INT_ID.csv'] = data['NODE_ID_COMPLEX_INT_ID.csv'].set_index(['ACCIDENT_NO','COMPLEX_INT_NO'])\n",
    "print 'index:', data['NODE_ID_COMPLEX_INT_ID.csv'].index.names\n",
    "data['NODE_ID_COMPLEX_INT_ID.csv'].dtypes"
   ]
  },
  {
   "cell_type": "markdown",
   "metadata": {
    "slideshow": {
     "slide_type": "subslide"
    }
   },
   "source": [
    "## ATMOSPHERIC_COND.csv"
   ]
  },
  {
   "cell_type": "code",
   "execution_count": 12,
   "metadata": {
    "collapsed": false,
    "slideshow": {
     "slide_type": "-"
    }
   },
   "outputs": [
    {
     "name": "stdout",
     "output_type": "stream",
     "text": [
      "[u'ACCIDENT_NO', u'ATMOSPH_COND']\n",
      "ATMOSPH_COND_SEQ     category\n",
      "Atmosph Cond Desc    category\n",
      "dtype: object\n"
     ]
    }
   ],
   "source": [
    "data['ATMOSPHERIC_COND.csv'] = dataset['ATMOSPHERIC_COND.csv'].apply(lambda r: pd.Categorical(r,ordered=True))\n",
    "data['ATMOSPHERIC_COND.csv'] = data['ATMOSPHERIC_COND.csv'].set_index(['ACCIDENT_NO','ATMOSPH_COND'])\n",
    "print data['ATMOSPHERIC_COND.csv'].index.names\n",
    "print data['ATMOSPHERIC_COND.csv'].dtypes"
   ]
  },
  {
   "cell_type": "markdown",
   "metadata": {
    "slideshow": {
     "slide_type": "subslide"
    }
   },
   "source": [
    "## NODE.csv"
   ]
  },
  {
   "cell_type": "code",
   "execution_count": 13,
   "metadata": {
    "collapsed": false,
    "slideshow": {
     "slide_type": "-"
    }
   },
   "outputs": [
    {
     "data": {
      "text/plain": [
       "ACCIDENT_NO       category\n",
       "NODE_ID           category\n",
       "NODE_TYPE         category\n",
       "AMG_X             category\n",
       "AMG_Y             category\n",
       "LGA_NAME          category\n",
       "Lga Name All      category\n",
       "Region Name       category\n",
       "Deg Urban Name    category\n",
       "Lat               category\n",
       "Long              category\n",
       "Postcode No       category\n",
       "dtype: object"
      ]
     },
     "execution_count": 13,
     "metadata": {},
     "output_type": "execute_result"
    }
   ],
   "source": [
    "data['NODE.csv'] = dataset['NODE.csv'].apply(lambda r: pd.Categorical(r,ordered=True))\n",
    "data['NODE.csv'].dtypes"
   ]
  },
  {
   "cell_type": "markdown",
   "metadata": {
    "slideshow": {
     "slide_type": "subslide"
    }
   },
   "source": [
    "## PERSON.csv"
   ]
  },
  {
   "cell_type": "code",
   "execution_count": 21,
   "metadata": {
    "collapsed": false,
    "slideshow": {
     "slide_type": "-"
    }
   },
   "outputs": [
    {
     "name": "stdout",
     "output_type": "stream",
     "text": [
      "[u'ACCIDENT_NO', u'PERSON_ID', u'VEHICLE_ID']\n"
     ]
    },
    {
     "data": {
      "text/plain": [
       "SEX                    object\n",
       "AGE                    object\n",
       "Age Group              object\n",
       "INJ_LEVEL              object\n",
       "Inj Level Desc         object\n",
       "SEATING_POSITION       object\n",
       "HELMET_BELT_WORN       object\n",
       "ROAD_USER_TYPE         object\n",
       "Road User Type Desc    object\n",
       "LICENCE_STATE          object\n",
       "PEDEST_MOVEMENT        object\n",
       "POSTCODE               object\n",
       "TAKEN_HOSPITAL         object\n",
       "EJECTED_CODE           object\n",
       "dtype: object"
      ]
     },
     "execution_count": 21,
     "metadata": {},
     "output_type": "execute_result"
    }
   ],
   "source": [
    "data['PERSON.csv'] = dataset['PERSON.csv'].apply(lambda r: pd.Categorical(r,ordered=True))\n",
    "data['PERSON.csv'] = dataset['PERSON.csv'].set_index(['ACCIDENT_NO','PERSON_ID','VEHICLE_ID'])\n",
    "print data['PERSON.csv'].index.names\n",
    "data['PERSON.csv'].dtypes"
   ]
  },
  {
   "cell_type": "markdown",
   "metadata": {
    "slideshow": {
     "slide_type": "subslide"
    }
   },
   "source": [
    "### ROAD_SURFACE_COND.csv"
   ]
  },
  {
   "cell_type": "code",
   "execution_count": 15,
   "metadata": {
    "collapsed": false,
    "slideshow": {
     "slide_type": "-"
    }
   },
   "outputs": [
    {
     "name": "stdout",
     "output_type": "stream",
     "text": [
      "[u'ACCIDENT_NO', u'SURFACE_COND']\n"
     ]
    },
    {
     "data": {
      "text/plain": [
       "Surface Cond Desc    category\n",
       "SURFACE_COND_SEQ     category\n",
       "dtype: object"
      ]
     },
     "execution_count": 15,
     "metadata": {},
     "output_type": "execute_result"
    }
   ],
   "source": [
    "data['ROAD_SURFACE_COND.csv'] = dataset['ROAD_SURFACE_COND.csv'].apply(lambda r: pd.Categorical(r,ordered=True))\n",
    "data['ROAD_SURFACE_COND.csv'] = data['ROAD_SURFACE_COND.csv'].set_index(['ACCIDENT_NO','SURFACE_COND'])\n",
    "print data['ROAD_SURFACE_COND.csv'].index.names\n",
    "data['ROAD_SURFACE_COND.csv'].dtypes"
   ]
  },
  {
   "cell_type": "markdown",
   "metadata": {
    "slideshow": {
     "slide_type": "subslide"
    }
   },
   "source": [
    "## SUBDCA.csv"
   ]
  },
  {
   "cell_type": "code",
   "execution_count": 16,
   "metadata": {
    "collapsed": false
   },
   "outputs": [
    {
     "name": "stdout",
     "output_type": "stream",
     "text": [
      "index [u'ACCIDENT_NO', u'SUB_DCA_CODE']\n"
     ]
    },
    {
     "data": {
      "text/plain": [
       "SUB_DCA_SEQ          category\n",
       "Sub Dca Code Desc    category\n",
       "dtype: object"
      ]
     },
     "execution_count": 16,
     "metadata": {},
     "output_type": "execute_result"
    }
   ],
   "source": [
    "data['SUBDCA.csv'] = dataset['SUBDCA.csv'].apply(lambda r: pd.Categorical(r,ordered=True))\n",
    "data['SUBDCA.csv'] = data['SUBDCA.csv'].set_index(['ACCIDENT_NO','SUB_DCA_CODE'])\n",
    "print 'index', data['SUBDCA.csv'].index.names\n",
    "data['SUBDCA.csv'].dtypes"
   ]
  },
  {
   "cell_type": "markdown",
   "metadata": {
    "slideshow": {
     "slide_type": "subslide"
    }
   },
   "source": [
    "## VEHICLE.csv"
   ]
  },
  {
   "cell_type": "code",
   "execution_count": 17,
   "metadata": {
    "collapsed": false,
    "slideshow": {
     "slide_type": "-"
    }
   },
   "outputs": [
    {
     "name": "stdout",
     "output_type": "stream",
     "text": [
      "index: [u'ACCIDENT_NO', u'VEHICLE_ID']\n"
     ]
    },
    {
     "data": {
      "text/plain": [
       "VEHICLE_YEAR_MANUF        category\n",
       "VEHICLE_DCA_CODE          category\n",
       "INITIAL_DIRECTION         category\n",
       "ROAD_SURFACE_TYPE         category\n",
       "Road Surface Type Desc    category\n",
       "REG_STATE                 category\n",
       "VEHICLE_BODY_STYLE        category\n",
       "VEHICLE_MAKE              category\n",
       "VEHICLE_MODEL             category\n",
       "VEHICLE_POWER             category\n",
       "VEHICLE_TYPE              category\n",
       "Vehicle Type Desc         category\n",
       "VEHICLE_WEIGHT            category\n",
       "CONSTRUCTION_TYPE         category\n",
       "FUEL_TYPE                 category\n",
       "NO_OF_WHEELS              category\n",
       "NO_OF_CYLINDERS           category\n",
       "SEATING_CAPACITY          category\n",
       "TARE_WEIGHT               category\n",
       "TOTAL_NO_OCCUPANTS        category\n",
       "CARRY_CAPACITY            category\n",
       "CUBIC_CAPACITY            category\n",
       "FINAL_DIRECTION           category\n",
       "DRIVER_INTENT             category\n",
       "VEHICLE_MOVEMENT          category\n",
       "TRAILER_TYPE              category\n",
       "VEHICLE_COLOUR_1          category\n",
       "VEHICLE_COLOUR_2          category\n",
       "CAUGHT_FIRE               category\n",
       "INITIAL_IMPACT            category\n",
       "LAMPS                     category\n",
       "LEVEL_OF_DAMAGE           category\n",
       "OWNER_POSTCODE            category\n",
       "TOWED_AWAY_FLAG           category\n",
       "TRAFFIC_CONTROL           category\n",
       "Traffic Control Desc      category\n",
       "dtype: object"
      ]
     },
     "execution_count": 17,
     "metadata": {},
     "output_type": "execute_result"
    }
   ],
   "source": [
    "data['VEHICLE.csv'] = dataset['VEHICLE.csv'].apply(lambda r: pd.Categorical(r,ordered=True))\n",
    "data['VEHICLE.csv'] = data['VEHICLE.csv'].set_index(['ACCIDENT_NO','VEHICLE_ID'])\n",
    "print 'index:', data['VEHICLE.csv'].index.names\n",
    "data['VEHICLE.csv'].dtypes"
   ]
  },
  {
   "cell_type": "markdown",
   "metadata": {
    "slideshow": {
     "slide_type": "-"
    }
   },
   "source": [
    "## ACCIDENT_CHAINAGE.csv"
   ]
  },
  {
   "cell_type": "code",
   "execution_count": 18,
   "metadata": {
    "collapsed": false,
    "slideshow": {
     "slide_type": "-"
    }
   },
   "outputs": [
    {
     "name": "stdout",
     "output_type": "stream",
     "text": [
      "index [u'Node Id', u'Route No', u'Chainage Seq']\n"
     ]
    },
    {
     "data": {
      "text/plain": [
       "Route Link No    category\n",
       "Chainage         category\n",
       "dtype: object"
      ]
     },
     "execution_count": 18,
     "metadata": {},
     "output_type": "execute_result"
    }
   ],
   "source": [
    "data['ACCIDENT_CHAINAGE.csv'] = dataset['ACCIDENT_CHAINAGE.csv'].apply(lambda r: pd.Categorical(r,ordered=True))\n",
    "data['ACCIDENT_CHAINAGE.csv'] = data['ACCIDENT_CHAINAGE.csv'].set_index(['Node Id','Route No','Chainage Seq'])\n",
    "print 'index', data['ACCIDENT_CHAINAGE.csv'].index.names\n",
    "data['ACCIDENT_CHAINAGE.csv'].dtypes"
   ]
  }
 ],
 "metadata": {
  "kernelspec": {
   "display_name": "Python 2",
   "language": "python",
   "name": "python2"
  },
  "language_info": {
   "codemirror_mode": {
    "name": "ipython",
    "version": 2
   },
   "file_extension": ".py",
   "mimetype": "text/x-python",
   "name": "python",
   "nbconvert_exporter": "python",
   "pygments_lexer": "ipython2",
   "version": "2.7.12"
  },
  "widgets": {
   "state": {},
   "version": "1.1.2"
  }
 },
 "nbformat": 4,
 "nbformat_minor": 0
}
